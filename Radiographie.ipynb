{
  "nbformat": 4,
  "nbformat_minor": 0,
  "metadata": {
    "colab": {
      "name": "Radiographie.ipynb",
      "provenance": [],
      "collapsed_sections": [],
      "authorship_tag": "ABX9TyNPC75zvz741PBZ6q5a5geG",
      "include_colab_link": true
    },
    "kernelspec": {
      "name": "python3",
      "display_name": "Python 3"
    },
    "language_info": {
      "name": "python"
    }
  },
  "cells": [
    {
      "cell_type": "markdown",
      "metadata": {
        "id": "view-in-github",
        "colab_type": "text"
      },
      "source": [
        "<a href=\"https://colab.research.google.com/github/Fatimata01/Classification-d-images/blob/main/Radiographie.ipynb\" target=\"_parent\"><img src=\"https://colab.research.google.com/assets/colab-badge.svg\" alt=\"Open In Colab\"/></a>"
      ]
    },
    {
      "cell_type": "markdown",
      "source": [
        "**KOINDA Fatimata**"
      ],
      "metadata": {
        "id": "5Mowz7M60if6"
      }
    },
    {
      "cell_type": "markdown",
      "source": [
        "**Modèle de classification d'images pour détecter la pneumonie à partir d'images radiographiques**"
      ],
      "metadata": {
        "id": "6-VeRj8jXx_t"
      }
    },
    {
      "cell_type": "markdown",
      "source": [
        "Selon l'OMS, chaque année, **plus de 150 millions** de personnes sont infectées par la pneumonie, **en particulier les enfants de moins de 5 ans**.\n",
        "\n",
        "> \n",
        "\n",
        "\n",
        "Les radiographies pulmonaires sont actuellement la meilleure méthode disponible pour diagnostiquer la pneumonie et jouent donc un rôle crucial dans le diagnostic et la prestation de soins cliniques aux personnes touchées. Cependant, détecter la pneumonie dans les radiographies pulmonaires est une tâche difficile qui repose sur la disponibilité de radiologues experts. Les experts ne sont pas disponibles dans les régions éloignées ou la plupart des gens ne peuvent pas se le permettre. Dans de telles circonstances, automatiser la détection des maladies devient le besoin de l'heure.\n",
        "\n",
        "> **Objectif**:Construire un modèle de classification d'images avec précision pour identifier si une personne a été infectée ou non par une pneumonie en regardant les images radiographiques thoraciques. La précision est vitale pour un tel modèle de classification d'images d'apprentissage automatique, car il s'agit d'une question de vie.\n",
        "\n",
        "\n",
        "\n",
        "\n",
        "\n"
      ],
      "metadata": {
        "id": "Zu-Ru1H-YO-I"
      }
    },
    {
      "cell_type": "markdown",
      "source": [
        "\n",
        "\n",
        "1.   **Chargement des bibliothèques nécéssaires**\n",
        "\n"
      ],
      "metadata": {
        "id": "3dsXpamXZ1I8"
      }
    },
    {
      "cell_type": "code",
      "execution_count": null,
      "metadata": {
        "colab": {
          "base_uri": "https://localhost:8080/"
        },
        "id": "VsKje12-7xzg",
        "outputId": "0c7dbb88-7597-4adc-efdc-438a8bbe3858"
      },
      "outputs": [
        {
          "output_type": "stream",
          "name": "stdout",
          "text": [
            "Mounted at /content/drive\n"
          ]
        }
      ],
      "source": [
        "from google.colab import drive\n",
        "drive.mount('/content/drive')"
      ]
    },
    {
      "cell_type": "code",
      "source": [
        "import tensorflow as tf\n",
        "import os\n",
        "import glob\n",
        "import cv2                 \n",
        "import numpy as np \n",
        "import pandas as pd\n",
        "from PIL import Image\n",
        "from pathlib import Path\n",
        "from keras.models import Sequential , Model,load_model\n",
        "from keras.applications.vgg16 import VGG16,preprocess_input\n",
        "from keras.preprocessing.image import ImageDataGenerator,load_img,img_to_array\n",
        "from keras.layers import Dropout , GlobalAveragePooling2D,Dense,Conv2D,Activation,Input,Flatten,MaxPooling2D\n",
        "from tensorflow.keras.optimizers import Adam,SGD,RMSprop\n",
        "from keras.callbacks import Callback,EarlyStopping\n",
        "from tensorflow.keras.utils import to_categorical\n",
        "from sklearn.metrics import confusion_matrix\n",
        "from keras import backend as K\n",
        "import matplotlib.pyplot as plt\n",
        "%matplotlib inline\n",
        "\n"
      ],
      "metadata": {
        "id": "ZvQLoRV18Rae"
      },
      "execution_count": null,
      "outputs": []
    },
    {
      "cell_type": "markdown",
      "source": [
        "\n",
        "\n",
        "2.   **Description de la base de données**\n",
        "\n",
        "La base de données est divisée en trois ensembles : **apprentissage, validation et test**;et chaque ensemble est constitué des images radiographiques de pneumonie et des images radiographiques normales.\n",
        "\n"
      ],
      "metadata": {
        "id": "tdEr7gJTaTWa"
      }
    },
    {
      "cell_type": "code",
      "source": [
        "print(os.listdir(\"/content/drive/MyDrive/Colab Notebooks/radiographie\"))"
      ],
      "metadata": {
        "colab": {
          "base_uri": "https://localhost:8080/"
        },
        "id": "E-mE2_cX1C1Y",
        "outputId": "fa0b206e-d0e8-4b06-c908-5e6d56298be8"
      },
      "execution_count": null,
      "outputs": [
        {
          "output_type": "stream",
          "name": "stdout",
          "text": [
            "['test', 'train', 'val']\n"
          ]
        }
      ]
    },
    {
      "cell_type": "code",
      "source": [
        "data_dir=Path(\"/content/drive/MyDrive/Colab Notebooks/radiographie\")\n",
        "train_dir=data_dir/'train'\n",
        "test_dir=data_dir/'test'\n",
        "val_dir=data_dir/'val'"
      ],
      "metadata": {
        "id": "6J5r-GN-10P7"
      },
      "execution_count": null,
      "outputs": []
    },
    {
      "cell_type": "code",
      "source": [
        "def load_train():\n",
        "  normal_cases_dir=train_dir/ 'NORMAL'\n",
        "  pneumonia_cases_dir=train_dir/ 'PNEUMONIA'\n",
        "  normal_cases=normal_cases_dir.glob('*.jpeg')\n",
        "  pneumonia_cases=pneumonia_cases_dir.glob('*.jpeg')\n",
        "  train_data=[]\n",
        "  train_label=[]\n",
        "  for img in normal_cases:\n",
        "    train_data.append(img)\n",
        "    train_label.append('NORMAL')\n",
        "\n",
        "  for img in pneumonia_cases:\n",
        "    train_data.append(img)\n",
        "    train_label.append('PNEUMONIA')\n",
        "  df=pd.DataFrame(train_data)\n",
        "  df.columns=['images']\n",
        "  df['labels']=train_label\n",
        "  df=df.sample(frac=1).reset_index(drop=True)\n",
        "  return df"
      ],
      "metadata": {
        "id": "Leueu6HV19sM"
      },
      "execution_count": null,
      "outputs": []
    },
    {
      "cell_type": "code",
      "source": [
        "train_data=load_train()\n",
        "train_data.shape"
      ],
      "metadata": {
        "colab": {
          "base_uri": "https://localhost:8080/"
        },
        "id": "yyI2aSrs3URQ",
        "outputId": "41960f2f-7b7e-442e-c29e-f83d5cb3ffb8"
      },
      "execution_count": null,
      "outputs": [
        {
          "output_type": "execute_result",
          "data": {
            "text/plain": [
              "(4297, 2)"
            ]
          },
          "metadata": {},
          "execution_count": 66
        }
      ]
    },
    {
      "cell_type": "markdown",
      "source": [
        "La base d'entrainement contient **4297** images."
      ],
      "metadata": {
        "id": "7VYWf-BXbUQn"
      }
    },
    {
      "cell_type": "code",
      "source": [
        "plt.bar(train_data['labels'].value_counts().index,train_data['labels'].value_counts().values)\n",
        "plt.show()"
      ],
      "metadata": {
        "colab": {
          "base_uri": "https://localhost:8080/",
          "height": 266
        },
        "id": "QuNp6tVNCCeh",
        "outputId": "48c5749a-c9e2-45b8-ab62-e3c37a6af9c9"
      },
      "execution_count": null,
      "outputs": [
        {
          "output_type": "display_data",
          "data": {
            "image/png": "[encoded data removed]",
            "text/plain": [
              "<Figure size 432x288 with 1 Axes>"
            ]
          },
          "metadata": {
            "needs_background": "light"
          }
        }
      ]
    },
    {
      "cell_type": "markdown",
      "source": [
        "On constate que nos données sont **déséquilibrées**.En effet, le nombre d'images contenant une pneumonie est nettement supérieur au nombre d'images normales. Ce qui est souvent logique,car les personnes qui consultent un médecin pour une maladie en ont pour la plupart un."
      ],
      "metadata": {
        "id": "A69Yf2labqMj"
      }
    },
    {
      "cell_type": "code",
      "source": [
        "def plot(image_batch,label_batch):\n",
        "  plt.figure(figsize=(10,5))\n",
        "  for i in range(10):\n",
        "    ax=plt.subplot(2,5,i+1)\n",
        "    img=cv2.imread(str(image_batch[i]))\n",
        "    img=cv2.resize(img,(224,224))\n",
        "    plt.imshow(img)\n",
        "    plt.title(label_batch[i])\n",
        "    plt.axis(\"off\")"
      ],
      "metadata": {
        "id": "D-3O2spnCv1q"
      },
      "execution_count": null,
      "outputs": []
    },
    {
      "cell_type": "code",
      "source": [
        "plot(image_batch=train_data['images'],label_batch=train_data['labels'])"
      ],
      "metadata": {
        "id": "WVaWdK8HE-vv",
        "colab": {
          "base_uri": "https://localhost:8080/",
          "height": 291
        },
        "outputId": "3639e942-bb2f-40f1-99d0-3e7f24fcc54e"
      },
      "execution_count": null,
      "outputs": [
        {
          "output_type": "display_data",
          "data": {
            "image/png": "[encoded data removed]",
            "text/plain": [
              "<Figure size 720x360 with 10 Axes>"
            ]
          },
          "metadata": {
            "needs_background": "light"
          }
        }
      ]
    },
    {
      "cell_type": "markdown",
      "source": [
        "\n",
        "\n",
        "3. **Chargement de l'ensemble test et validation-Prétraitement des images**\n",
        "\n",
        "\n",
        "*  Étant donné que les images sont de longueurs et de largeurs différentes, on va les redimensionner à 224 224,3.\n",
        "*   Certaines images sont en niveaux de gris (1 canal), on va les convertir en 3 canaux\n",
        "\n",
        "*   Les images lues à l'aide de cv2 sont au format BGR (par défaut), le convertir en RVB.\n",
        "\n",
        "\n",
        "\n",
        "\n",
        "\n",
        "\n",
        "*   Normaliser les pixels de l'image en les divisant par 255.\n",
        "*   to_categorical est utilisé pour convertir les étiquettes au format encodé one-hot.\n",
        "\n",
        "\n",
        "\n",
        "\n",
        "\n",
        "\n",
        "\n",
        "\n"
      ],
      "metadata": {
        "id": "fItDfG1edOn4"
      }
    },
    {
      "cell_type": "code",
      "source": [
        "def prepare_and_load(isval=True):\n",
        "  if isval==True:\n",
        "    normal_dir=val_dir/'NORMAL'\n",
        "    pneumonia_dir=val_dir/'PNEUMONIA'\n",
        "  else:\n",
        "    normal_dir=test_dir/'NORMAL'\n",
        "    pneumonia_dir=test_dir/'PNEUMONIA'\n",
        "  normal_cases=normal_dir.glob('*.jpeg')\n",
        "  pneumonia_cases=pneumonia_dir.glob('*.jpeg')\n",
        "  data,labels=([] for x in range(2))\n",
        "  def prepare(case):\n",
        "    for img in case:\n",
        "      img=cv2.imread(str(img))\n",
        "      img=cv2.resize(img,(224,224))\n",
        "      if img.shape[2]==1:\n",
        "        img=np.dstack([img,img,img])\n",
        "      img=cv2.cvtColor(img,cv2.COLOR_BGR2RGB)\n",
        "      img=img.astype(np.float32)/255\n",
        "      if case==normal_cases:\n",
        "        label=to_categorical(0,num_classes=2)\n",
        "      else:\n",
        "        label=to_categorical(1,num_classes=2)\n",
        "      data.append(img)\n",
        "      labels.append(label)\n",
        "    return data,labels\n",
        "  prepare(normal_cases)\n",
        "  d,l=prepare(pneumonia_cases)\n",
        "  d=np.array(d)\n",
        "  l=np.array(l)\n",
        "  return d,l\n",
        "\n",
        "\n",
        "\n",
        "    \n",
        "\n"
      ],
      "metadata": {
        "id": "DRyrl1HDOEH-"
      },
      "execution_count": null,
      "outputs": []
    },
    {
      "cell_type": "code",
      "source": [
        "val_data,val_labels=prepare_and_load(isval=True)\n",
        "test_data,test_labels=prepare_and_load(isval=False)\n",
        "print('Number of test images --->',len(test_data))\n",
        "print('Number of validation images --->',len(val_data))\n"
      ],
      "metadata": {
        "colab": {
          "base_uri": "https://localhost:8080/"
        },
        "id": "vKE9pyeKS_Ln",
        "outputId": "487c130b-775a-48b5-cfe2-b7d3e2e1f755"
      },
      "execution_count": null,
      "outputs": [
        {
          "output_type": "stream",
          "name": "stdout",
          "text": [
            "Number of test images ---> 634\n",
            "Number of validation images ---> 16\n"
          ]
        }
      ]
    },
    {
      "cell_type": "markdown",
      "source": [
        "Nous avons **16 images à valider et 634 images à tester**."
      ],
      "metadata": {
        "id": "6FGILZ10fbdj"
      }
    },
    {
      "cell_type": "markdown",
      "source": [
        "La fonction ci-dessus a pour but de générer les images par lot pour la formation.En effet on sait que la formation se déroule par lots. Le modèle prend le premier lot, le fait passer dans le réseau, une perte est calculée au final, puis les gradients remontent pour mettre à jour les paramètres du réseau. Ce processus est répété jusqu'à ce qu'on atteigne la perte souhaitée et que l'entraînement s'arrête."
      ],
      "metadata": {
        "id": "8dJtQryqYVvO"
      }
    },
    {
      "cell_type": "code",
      "source": [
        "def data_gen(data,batch_size):\n",
        "  n=len(data)\n",
        "  steps=n//batch_size\n",
        "\n",
        "  batch_data=np.zeros((batch_size,224,224,3),dtype=np.float32)\n",
        "  batch_labels=np.zeros((batch_size,2),dtype=np.float32)\n",
        "\n",
        "  indices=np.arange(n)\n",
        "\n",
        "  i=0\n",
        "  while True:\n",
        "    np.random.shuffle(indices)\n",
        "    count=0\n",
        "    next_batch=indices[(i*batch_size):(i+1)*batch_size]\n",
        "    for j,idx in enumerate(next_batch):\n",
        "      img_name=data.iloc[idx]['images']\n",
        "      label=data.iloc[idx]['labels']\n",
        "      if label=='NORMAL':\n",
        "        label=0\n",
        "      else:\n",
        "        label=1\n",
        "\n",
        "      encoded_label=to_categorical(label,num_classes=2)\n",
        "\n",
        "      img=cv2.imread(str(img_name))\n",
        "      img=cv2.resize(img,(224,224))\n",
        "      if img.shape[2]==1:\n",
        "        img=np.dstack([img,img,img])\n",
        "      \n",
        "\n",
        "      orig_img=cv2.cvtColor(img,cv2.COLOR_BGR2RGB)\n",
        "      orig_img=img.astype(np.float32)/255\n",
        "\n",
        "      batch_data[count]=orig_img\n",
        "      batch_labels[count]=encoded_label\n",
        "\n",
        "      count+=1\n",
        "      if count==batch_size-1:\n",
        "        break\n",
        "    \n",
        "    i+=1\n",
        "    yield batch_data,batch_labels\n",
        "\n",
        "    if i>=steps:\n",
        "      i=0\n",
        "     \n",
        "    \n",
        "  \n",
        "         \n"
      ],
      "metadata": {
        "id": "QDvpaq-QUIha"
      },
      "execution_count": null,
      "outputs": []
    },
    {
      "cell_type": "markdown",
      "source": [
        "Une activation **ReLu** est appliquée après chaque convolution pour transformer les valeurs de sortie entre la plage 0 à 1."
      ],
      "metadata": {
        "id": "kjr73ubLYyXO"
      }
    },
    {
      "cell_type": "code",
      "source": [
        "model=Sequential()\n",
        "model.add(Conv2D(32,(3,3),input_shape=(224,224,3)))\n",
        "model.add(Activation('relu'))\n",
        "model.add(MaxPooling2D(pool_size=(2,2)))\n",
        "\n",
        "model.add(Conv2D(32,(3,3)))\n",
        "model.add(Activation('relu'))\n",
        "model.add(MaxPooling2D(pool_size=(2,2)))\n",
        "\n",
        "model.add(Conv2D(64,(3,3)))\n",
        "model.add(Activation('relu'))\n",
        "model.add(MaxPooling2D(pool_size=(2,2)))\n",
        "\n",
        "model.add(Flatten())\n",
        "\n",
        "model.add(Dense(64))\n",
        "model.add(Activation('relu'))\n",
        "model.add(Dense(2))\n",
        "model.add(Activation('softmax'))"
      ],
      "metadata": {
        "id": "B0JsCqQ5af1n"
      },
      "execution_count": null,
      "outputs": []
    },
    {
      "cell_type": "markdown",
      "source": [
        "La **taille du lot** fait référence au nombre d'images transmises au réseau en une seule passe directe. D'autre part, le **nombre d'époques** détermine le nombre de fois que notre réseau traiterait l'ensemble des données d'entraînement. Le **nombre d'étapes** d'entraînement est le nombre d'étapes dans une époque et est calculé en divisant la taille de nos données d'entraînement par la taille du lot. "
      ],
      "metadata": {
        "id": "mGZ65D0eZeEH"
      }
    },
    {
      "cell_type": "code",
      "source": [
        "batch_size=16\n",
        "nb_epochs=3\n",
        "\n",
        "train_data_gen=data_gen(data=train_data,batch_size=batch_size)\n",
        "\n",
        "nb_train_steps=train_data.shape[0]//batch_size\n",
        "\n",
        "print(\"Number of training and validation steps:{} and {}\".format(nb_train_steps,len(val_data)))"
      ],
      "metadata": {
        "colab": {
          "base_uri": "https://localhost:8080/"
        },
        "id": "a4SP8gNYc26n",
        "outputId": "19617deb-f306-4745-82a4-e542333f7e28"
      },
      "execution_count": null,
      "outputs": [
        {
          "output_type": "stream",
          "name": "stdout",
          "text": [
            "Number of training and validation steps:268 and 16\n"
          ]
        }
      ]
    },
    {
      "cell_type": "markdown",
      "source": [
        "On a utilisé la **binary crossentropy** comme fonction de perte car nous n'avons que 2 classes. **Rmsprop**(Root Mean Square Propagation) sera notre fonction d'optimisation."
      ],
      "metadata": {
        "id": "e_9NL3r2aHH3"
      }
    },
    {
      "cell_type": "code",
      "source": [
        "model.compile(loss='binary_crossentropy',optimizer='rmsprop',metrics=['accuracy'])\n",
        "history=model.fit_generator(train_data_gen,epochs=nb_epochs,steps_per_epoch=nb_train_steps,validation_data=(val_data,val_labels))"
      ],
      "metadata": {
        "colab": {
          "base_uri": "https://localhost:8080/"
        },
        "id": "g0va3WQOeLnA",
        "outputId": "c86f8b54-aacb-4575-9114-61866f90555a"
      },
      "execution_count": null,
      "outputs": [
        {
          "output_type": "stream",
          "name": "stderr",
          "text": [
            "/usr/local/lib/python3.7/dist-packages/ipykernel_launcher.py:2: UserWarning: `Model.fit_generator` is deprecated and will be removed in a future version. Please use `Model.fit`, which supports generators.\n",
            "  \n"
          ]
        },
        {
          "output_type": "stream",
          "name": "stdout",
          "text": [
            "Epoch 1/3\n",
            "268/268 [==============================] - 336s 1s/step - loss: 0.2299 - accuracy: 0.8638 - val_loss: 0.7679 - val_accuracy: 0.6250\n",
            "Epoch 2/3\n",
            "268/268 [==============================] - 334s 1s/step - loss: 0.0911 - accuracy: 0.9037 - val_loss: 0.8571 - val_accuracy: 0.6875\n",
            "Epoch 3/3\n",
            "268/268 [==============================] - 333s 1s/step - loss: 0.0801 - accuracy: 0.9181 - val_loss: 3.2835 - val_accuracy: 0.5000\n"
          ]
        }
      ]
    },
    {
      "cell_type": "markdown",
      "source": [
        "on constate que notre précision de validation n'est pas bonne."
      ],
      "metadata": {
        "id": "qpNe9wovasmG"
      }
    },
    {
      "cell_type": "markdown",
      "source": [
        "**L'apprentissage par transfert** est une technique consistant à utiliser des réseaux de neurones pré-entraînés qui sont entraînés sur des milliards d'images (comme Alexnet, Inception net, VGG16) sur une tâche différente en modifiant la dernière couche de classification."
      ],
      "metadata": {
        "id": "U3GSiSWzbHd2"
      }
    },
    {
      "cell_type": "code",
      "source": [
        "def vgg16_model(num_classes=None):\n",
        "  model2=VGG16(weights='imagenet',include_top=True,input_shape=(224,224,3))\n",
        "  x=Dense(1024,activation='relu')(model2.layers[-4].output)\n",
        "  x=Dropout(0.7)(x)\n",
        "  x=Dense(512,activation='relu')(x)\n",
        "  x=Dropout(0.5)(x)\n",
        "  x=Dense(2,activation='softmax')(x)\n",
        "  model2=Model(model2.input,x)\n",
        "\n",
        "  return model2\n"
      ],
      "metadata": {
        "id": "etZHuQZGfnd8"
      },
      "execution_count": null,
      "outputs": []
    },
    {
      "cell_type": "markdown",
      "source": [
        "La taille d'entrée reste la même (224, 224, 3);  Après le dernier bloc de convolution, on a ajouté **3 couches Dense avec Dropout** pour régulariser le modèle et éviter le surapprentissage. \n"
      ],
      "metadata": {
        "id": "5PTt3mFnbvcT"
      }
    },
    {
      "cell_type": "code",
      "source": [
        "vgg_conv=vgg16_model(2)\n",
        "for layer in vgg_conv.layers[:-10]:\n",
        "  layer.trainable=False\n"
      ],
      "metadata": {
        "id": "FXnOpJHYjKUx"
      },
      "execution_count": null,
      "outputs": []
    },
    {
      "cell_type": "code",
      "source": [
        ""
      ],
      "metadata": {
        "id": "5Ma3c4nJVR9Z"
      },
      "execution_count": null,
      "outputs": []
    },
    {
      "cell_type": "markdown",
      "source": [
        "Cette fois, on a choisi Adam comme optimiseur."
      ],
      "metadata": {
        "id": "gqdKCkNUcLK5"
      }
    },
    {
      "cell_type": "code",
      "source": [
        "opt=Adam(lr=0.0001,decay=0.00001)\n",
        "vgg_conv.compile(loss='binary_crossentropy',metrics=['accuracy'],optimizer=opt)"
      ],
      "metadata": {
        "colab": {
          "base_uri": "https://localhost:8080/"
        },
        "id": "WUuB2atIj2-v",
        "outputId": "16871d4e-2c4a-4610-cf85-e863f331e1ae"
      },
      "execution_count": null,
      "outputs": [
        {
          "output_type": "stream",
          "name": "stderr",
          "text": [
            "/usr/local/lib/python3.7/dist-packages/keras/optimizer_v2/adam.py:105: UserWarning: The `lr` argument is deprecated, use `learning_rate` instead.\n",
            "  super(Adam, self).__init__(name, **kwargs)\n"
          ]
        }
      ]
    },
    {
      "cell_type": "code",
      "source": [
        "history=vgg_conv.fit_generator(train_data_gen,epochs=nb_epochs,steps_per_epoch=nb_train_steps,validation_data=(val_data,val_labels),class_weight={0:1.0, 1:0.4})"
      ],
      "metadata": {
        "colab": {
          "base_uri": "https://localhost:8080/"
        },
        "id": "mdHVXPdzlJ-L",
        "outputId": "5718cebf-218b-4733-d00c-c33c3968353d"
      },
      "execution_count": null,
      "outputs": [
        {
          "output_type": "stream",
          "name": "stderr",
          "text": [
            "/usr/local/lib/python3.7/dist-packages/ipykernel_launcher.py:1: UserWarning: `Model.fit_generator` is deprecated and will be removed in a future version. Please use `Model.fit`, which supports generators.\n",
            "  \"\"\"Entry point for launching an IPython kernel.\n"
          ]
        },
        {
          "output_type": "stream",
          "name": "stdout",
          "text": [
            "Epoch 1/3\n",
            "268/268 [==============================] - ETA: 0s - loss: 0.1022 - accuracy: 0.8979 WARNING:tensorflow:5 out of the last 13 calls to <function Model.make_test_function.<locals>.test_function at 0x7f65adbe53b0> triggered tf.function retracing. Tracing is expensive and the excessive number of tracings could be due to (1) creating @tf.function repeatedly in a loop, (2) passing tensors with different shapes, (3) passing Python objects instead of tensors. For (1), please define your @tf.function outside of the loop. For (2), @tf.function has experimental_relax_shapes=True option that relaxes argument shapes that can avoid unnecessary retracing. For (3), please refer to https://www.tensorflow.org/guide/function#controlling_retracing and https://www.tensorflow.org/api_docs/python/tf/function for  more details.\n",
            "268/268 [==============================] - 2998s 11s/step - loss: 0.1022 - accuracy: 0.8979 - val_loss: 0.8398 - val_accuracy: 0.8750\n",
            "Epoch 2/3\n",
            "268/268 [==============================] - 2981s 11s/step - loss: 0.0342 - accuracy: 0.9368 - val_loss: 2.7849 - val_accuracy: 0.6875\n",
            "Epoch 3/3\n",
            "268/268 [==============================] - 2984s 11s/step - loss: 0.0211 - accuracy: 0.9468 - val_loss: 5.6900 - val_accuracy: 0.6250\n"
          ]
        }
      ]
    },
    {
      "cell_type": "markdown",
      "source": [
        "On remarque que la précision de validation est de **0,6250** avec ce modèle. Une autre chose importante qui doit être abordée ici est le déséquilibre des données. on a fourni des poids de classe pendant la formation pour compenser le déséquilibre des données."
      ],
      "metadata": {
        "id": "LEYbVujncnvc"
      }
    },
    {
      "cell_type": "code",
      "source": [
        "loss,acc=vgg_conv.evaluate(test_data,test_labels,batch_size=16)\n",
        "print('Loss and accuracy',loss,'&',acc)"
      ],
      "metadata": {
        "id": "uGzPtxMVmyd0",
        "colab": {
          "base_uri": "https://localhost:8080/"
        },
        "outputId": "c9495f5a-36e3-40a9-eab1-cfe7d61c600c"
      },
      "execution_count": null,
      "outputs": [
        {
          "output_type": "stream",
          "name": "stdout",
          "text": [
            "40/40 [==============================] - 332s 8s/step - loss: 1.7341 - accuracy: 0.8060\n",
            "Loss and accuracy 1.7341301441192627 & 0.8059936761856079\n"
          ]
        }
      ]
    },
    {
      "cell_type": "markdown",
      "source": [
        "La précision semble être bonne. Mais vu que nos données sont déséquilibrées, la précision n'est pas une mesure très fiable de la performance."
      ],
      "metadata": {
        "id": "Y8uomGWle22Z"
      }
    },
    {
      "cell_type": "code",
      "source": [
        "pred=vgg_conv.predict(test_data,batch_size=16)\n",
        "pred=np.argmax(pred,axis=-1)\n",
        "\n",
        "labels=np.argmax(test_labels,axis=-1)\n",
        "from sklearn.metrics import classification_report\n",
        "print(classification_report(labels,pred))"
      ],
      "metadata": {
        "id": "fU9wmTmtnUvM",
        "colab": {
          "base_uri": "https://localhost:8080/"
        },
        "outputId": "519bea03-c7c5-4e2d-c8ec-6c18259dfe3b"
      },
      "execution_count": null,
      "outputs": [
        {
          "output_type": "stream",
          "name": "stdout",
          "text": [
            "              precision    recall  f1-score   support\n",
            "\n",
            "           0       0.99      0.50      0.66       244\n",
            "           1       0.76      1.00      0.86       390\n",
            "\n",
            "    accuracy                           0.81       634\n",
            "   macro avg       0.88      0.75      0.76       634\n",
            "weighted avg       0.85      0.81      0.79       634\n",
            "\n"
          ]
        }
      ]
    },
    {
      "cell_type": "markdown",
      "source": [
        "\n",
        "\n",
        "*   La **précision** dans notre cas, est le nombre de personnes ayant réellement une pneumonie divisé par toutes celles prédites par le modèle comme ayant une pneumonie.\n",
        "*   Le **rappel**, quant à lui, est la fraction de personnes ayant réellement une pneumonie et qui sont prédites positives par le modèle par rapport au nombre total de personnes ayant une pneumonie. Il mesure **le potentiel d'un test à reconnaître les patients atteints de la maladie.**\n",
        "\n",
        "\n",
        "\n",
        "\n",
        "*   Le **score F1** n'est que la moyenne harmonique de la précision et du rappel."
      ],
      "metadata": {
        "id": "MKAsfegQfg-Z"
      }
    },
    {
      "cell_type": "code",
      "source": [
        "import seaborn as sns\n",
        "cm=confusion_matrix(labels,pred)\n",
        "sns.heatmap(cm,annot=True,fmt='g',xticklabels=['Normal','Pneumonia'],yticklabels=['Normal','Pneumonia'])"
      ],
      "metadata": {
        "id": "fCFmbP1-oJSf",
        "colab": {
          "base_uri": "https://localhost:8080/",
          "height": 282
        },
        "outputId": "1be77234-b615-4bb9-ac5c-e712092a5f0d"
      },
      "execution_count": null,
      "outputs": [
        {
          "output_type": "execute_result",
          "data": {
            "text/plain": [
              "<matplotlib.axes._subplots.AxesSubplot at 0x7f65b6585810>"
            ]
          },
          "metadata": {},
          "execution_count": 61
        },
        {
          "output_type": "display_data",
          "data": {
            "image/png": "[encoded data removed]",
            "text/plain": [
              "<Figure size 432x288 with 2 Axes>"
            ]
          },
          "metadata": {
            "needs_background": "light"
          }
        }
      ]
    }
  ]
}